{
  "nbformat": 4,
  "nbformat_minor": 0,
  "metadata": {
    "colab": {
      "provenance": [],
      "authorship_tag": "ABX9TyPy2YbEfK8pCVeR0iXEDUGr",
      "include_colab_link": true
    },
    "kernelspec": {
      "name": "python3",
      "display_name": "Python 3"
    },
    "language_info": {
      "name": "python"
    }
  },
  "cells": [
    {
      "cell_type": "markdown",
      "metadata": {
        "id": "view-in-github",
        "colab_type": "text"
      },
      "source": [
        "<a href=\"https://colab.research.google.com/github/AdelaVernanda/Kriptografi/blob/main/One_Time_Pad_Adela_Vernanda_312110116.ipynb\" target=\"_parent\"><img src=\"https://colab.research.google.com/assets/colab-badge.svg\" alt=\"Open In Colab\"/></a>"
      ]
    },
    {
      "cell_type": "markdown",
      "source": [
        "# **One Time Pad**"
      ],
      "metadata": {
        "id": "Z7zFRs61iqwD"
      }
    },
    {
      "cell_type": "code",
      "source": [
        "def encrypt(text, key):\n",
        "    char_values = [ord(char) for char in text]\n",
        "    encrypted_values = [char_value ^ key for char_value in char_values]\n",
        "    encrypted_text = ''.join(chr(encrypted_value) for encrypted_value in encrypted_values)\n",
        "\n",
        "    return encrypted_text\n",
        "\n",
        "def decrypt(encrypted_text, key):\n",
        "    encrypted_values = [ord(char) for char in encrypted_text]\n",
        "    decrypted_values = [encrypted_value ^ key for encrypted_value in encrypted_values]\n",
        "    decrypted_text = ''.join(chr(decrypted_value) for decrypted_value in decrypted_values)\n",
        "\n",
        "    return decrypted_text\n",
        "\n",
        "plaintext = input(\"Masukkan Plain Text: \")\n",
        "key = ord(input(\"Masukkan Huruf Kunci: \"))\n",
        "\n",
        "encrypted_text = encrypt(plaintext, key)\n",
        "print(\"Encrypted Text: \", encrypted_text)\n",
        "\n",
        "decrypted_text = decrypt(encrypted_text, key)\n",
        "print(\"Decrypted Text: \", decrypted_text)"
      ],
      "metadata": {
        "colab": {
          "base_uri": "https://localhost:8080/"
        },
        "id": "gmlxuRZpivex",
        "outputId": "95c6b6e2-636a-42c8-a760-8d990dc400c4"
      },
      "execution_count": null,
      "outputs": [
        {
          "output_type": "stream",
          "name": "stdout",
          "text": [
            "Masukkan Plain Text: ADELA\n",
            "Masukkan Huruf Kunci: T\n",
            "Encrypted Text:  \u0015\u0010\u0011\u0018\u0015\n",
            "Decrypted Text:  ADELA\n"
          ]
        }
      ]
    }
  ]
}