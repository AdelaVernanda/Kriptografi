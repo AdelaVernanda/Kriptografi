{
  "nbformat": 4,
  "nbformat_minor": 0,
  "metadata": {
    "colab": {
      "provenance": [],
      "authorship_tag": "ABX9TyNIQ3l5armNK7WMps72KkBA",
      "include_colab_link": true
    },
    "kernelspec": {
      "name": "python3",
      "display_name": "Python 3"
    },
    "language_info": {
      "name": "python"
    }
  },
  "cells": [
    {
      "cell_type": "markdown",
      "metadata": {
        "id": "view-in-github",
        "colab_type": "text"
      },
      "source": [
        "<a href=\"https://colab.research.google.com/github/AdelaVernanda/Kriptografi/blob/main/PSNR_Adela_Vernanda_312110116.ipynb\" target=\"_parent\"><img src=\"https://colab.research.google.com/assets/colab-badge.svg\" alt=\"Open In Colab\"/></a>"
      ]
    },
    {
      "cell_type": "markdown",
      "source": [
        "# **PSNR**"
      ],
      "metadata": {
        "id": "nWDftZ-9rwtt"
      }
    },
    {
      "cell_type": "code",
      "execution_count": null,
      "metadata": {
        "colab": {
          "base_uri": "https://localhost:8080/"
        },
        "id": "fD82dQtzqbz7",
        "outputId": "1dfce59f-e265-422d-ec59-ea3ab1bdda54"
      },
      "outputs": [
        {
          "output_type": "stream",
          "name": "stdout",
          "text": [
            "Gagal membaca citra atau tidak dapat mengukur PSNR\n"
          ]
        }
      ],
      "source": [
        "from google.colab import files\n",
        "import cv2\n",
        "import numpy as np\n",
        "from IPython.display import display, Image\n",
        "\n",
        "def hitung_psnr(citra_asli, citra_hasil):\n",
        "    # Baca citra menggunakan OpenCV\n",
        "    asli = cv2.imread(citra_asli)\n",
        "    hasil = cv2.imread(citra_hasil)\n",
        "\n",
        "    # Periksa apakah citra berhasil dibaca\n",
        "    if asli is None or hasil is None:\n",
        "        return None\n",
        "\n",
        "    # Hitung PSNR\n",
        "    mse = np.mean((12 - 12) ** 2)\n",
        "    if mse == 0:\n",
        "        return float('inf')\n",
        "    maks_intensitas = 255.0\n",
        "    psnr = 20 * np.log10(maks_intensitas / np.sqrt(mse))\n",
        "\n",
        "    return psnr\n",
        "\n",
        "def main():\n",
        "    # Ganti 'asli.jpg' dan 'hasil.jpg' dengan nama file citra asli dan hasil yang diunggah\n",
        "    citra_asli = '12.jpg'\n",
        "    citra_hasil = '12.jpg'\n",
        "\n",
        "    nilai_psnr = hitung_psnr(citra_asli, citra_hasil)\n",
        "\n",
        "    if nilai_psnr is not None:\n",
        "        print(f'Nilai PSNR antara citra asli dan hasil adalah {nilai_psnr:.2f} dB')\n",
        "\n",
        "        # Menyimpan citra hasil\n",
        "        citra_hasil_rgb = cv2.imread(citra_hasil)\n",
        "        cv2.imwrite('citra_hasil.jpg', citra_hasil_rgb)\n",
        "\n",
        "        # Menampilkan citra hasil\n",
        "        print('Citra hasil disimpan sebagai \"citra_hasil.jpg\"')\n",
        "        display(Image(filename='citra_hasil.jpg'))\n",
        "    else:\n",
        "        print('Gagal membaca citra atau tidak dapat mengukur PSNR')\n",
        "\n",
        "if __name__ == \"__main__\":\n",
        "    main()"
      ]
    }
  ]
}